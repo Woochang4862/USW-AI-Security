{
 "cells": [
  {
   "cell_type": "markdown",
   "metadata": {
    "id": "view-in-github",
    "colab_type": "text"
   },
   "source": [
    "# 멀티모달 스팸 탐지 모델 프로토타입 🔍\n",
    "\n",
    "이 노트북은 ViT + BERT + SVM을 사용한 멀티모달 스팸 탐지 모델의 프로토타입 구현입니다.\n",
    "\n",
    "## 주요 구성 요소\n",
    "1. 이미지 처리: Vision Transformer (ViT)\n",
    "2. 텍스트 처리: BERT\n",
    "3. 분류기: SVM\n",
    "\n",
    "## 데이터셋\n",
    "- Dredze Email Dataset (이미지 스팸)\n",
    "- SpamAssassin Dataset (텍스트 스팸)"
   ]
  },
  {
   "cell_type": "markdown",
   "metadata": {
    "id": "setup"
   },
   "source": [
    "## 1. 환경 설정 및 라이브러리 설치"
   ]
  },
  {
   "cell_type": "code",
   "execution_count": null,
   "metadata": {
    "id": "install_libs"
   },
   "outputs": [],
   "source": [
    "!pip install transformers torch torchvision scikit-learn pandas numpy pillow tqdm\n",
    "!nvidia-smi  # GPU 확인"
   ]
  },
  {
   "cell_type": "code",
   "execution_count": null,
   "metadata": {
    "id": "imports"
   },
   "outputs": [],
   "source": [
    "import torch\n",
    "import torch.nn as nn\n",
    "from transformers import ViTFeatureExtractor, ViTModel\n",
    "from transformers import BertTokenizer, BertModel\n",
    "from sklearn.svm import SVC\n",
    "from sklearn.metrics import accuracy_score, precision_recall_fscore_support\n",
    "import pandas as pd\n",
    "import numpy as np\n",
    "from PIL import Image\n",
    "import os\n",
    "from tqdm import tqdm"
   ]
  },
  {
   "cell_type": "markdown",
   "metadata": {
    "id": "drive_mount"
   },
   "source": [
    "## 2. Google Drive 연동 및 데이터 준비"
   ]
  },
  {
   "cell_type": "code",
   "execution_count": null,
   "metadata": {
    "id": "mount_drive"
   },
   "outputs": [],
   "source": [
    "from google.colab import drive\n",
    "drive.mount('/content/drive')\n",
    "\n",
    "# 프로젝트 디렉토리 생성\n",
    "!mkdir -p '/content/drive/MyDrive/spam_detection_project/{data,models,checkpoints}'"
   ]
  },
  {
   "cell_type": "markdown",
   "metadata": {
    "id": "model_definition"
   },
   "source": [
    "## 3. 모델 정의"
   ]
  },
  {
   "cell_type": "code",
   "execution_count": null,
   "metadata": {
    "id": "multimodal_model"
   },
   "outputs": [],
   "source": [
    "class MultimodalSpamDetector:\n",
    "    def __init__(self):\n",
    "        # ViT 초기화\n",
    "        self.vit_extractor = ViTFeatureExtractor.from_pretrained('google/vit-base-patch16-224')\n",
    "        self.vit = ViTModel.from_pretrained('google/vit-base-patch16-224')\n",
    "        \n",
    "        # BERT 초기화\n",
    "        self.bert_tokenizer = BertTokenizer.from_pretrained('bert-base-uncased')\n",
    "        self.bert = BertModel.from_pretrained('bert-base-uncased')\n",
    "        \n",
    "        # SVM 분류기\n",
    "        self.svm = SVC(kernel='rbf', probability=True)\n",
    "        \n",
    "        # GPU 사용 설정\n",
    "        self.device = torch.device('cuda' if torch.cuda.is_available() else 'cpu')\n",
    "        self.vit.to(self.device)\n",
    "        self.bert.to(self.device)\n",
    "    \n",
    "    def extract_image_features(self, image_path):\n",
    "        image = Image.open(image_path)\n",
    "        inputs = self.vit_extractor(images=image, return_tensors=\"pt\")\n",
    "        inputs = {k: v.to(self.device) for k, v in inputs.items()}\n",
    "        \n",
    "        with torch.no_grad():\n",
    "            outputs = self.vit(**inputs)\n",
    "            image_features = outputs.last_hidden_state[:, 0, :].cpu().numpy()  # [CLS] 토큰 사용\n",
    "        \n",
    "        return image_features\n",
    "    \n",
    "    def extract_text_features(self, text):\n",
    "        inputs = self.bert_tokenizer(text, padding=True, truncation=True, max_length=512,\n",
    "                                    return_tensors=\"pt\")\n",
    "        inputs = {k: v.to(self.device) for k, v in inputs.items()}\n",
    "        \n",
    "        with torch.no_grad():\n",
    "            outputs = self.bert(**inputs)\n",
    "            text_features = outputs.last_hidden_state[:, 0, :].cpu().numpy()  # [CLS] 토큰 사용\n",
    "        \n",
    "        return text_features\n",
    "    \n",
    "    def combine_features(self, image_features, text_features):\n",
    "        # 단순 concatenation 방식으로 특징 결합\n",
    "        return np.concatenate([image_features, text_features], axis=1)\n",
    "    \n",
    "    def train(self, image_paths, texts, labels):\n",
    "        combined_features = []\n",
    "        \n",
    "        for img_path, text in tqdm(zip(image_paths, texts), total=len(image_paths)):\n",
    "            image_feat = self.extract_image_features(img_path)\n",
    "            text_feat = self.extract_text_features(text)\n",
    "            combined = self.combine_features(image_feat, text_feat)\n",
    "            combined_features.append(combined.squeeze())\n",
    "        \n",
    "        X = np.array(combined_features)\n",
    "        self.svm.fit(X, labels)\n",
    "    \n",
    "    def predict(self, image_path, text):\n",
    "        image_feat = self.extract_image_features(image_path)\n",
    "        text_feat = self.extract_text_features(text)\n",
    "        combined = self.combine_features(image_feat, text_feat)\n",
    "        \n",
    "        return self.svm.predict(combined), self.svm.predict_proba(combined)"
   ]
  },
  {
   "cell_type": "markdown",
   "metadata": {
    "id": "data_loading"
   },
   "source": [
    "## 4. 데이터 로딩 및 전처리"
   ]
  },
  {
   "cell_type": "code",
   "execution_count": null,
   "metadata": {
    "id": "load_data"
   },
   "outputs": [],
   "source": [
    "def load_data(data_dir):\n",
    "    \"\"\"데이터 로딩 함수 - 실제 데이터셋에 맞게 수정 필요\"\"\"\n",
    "    image_paths = []\n",
    "    texts = []\n",
    "    labels = []\n",
    "    \n",
    "    # 여기에 실제 데이터 로딩 로직 구현\n",
    "    # Dredze Dataset과 SpamAssassin Dataset 로딩\n",
    "    \n",
    "    return image_paths, texts, labels"
   ]
  },
  {
   "cell_type": "markdown",
   "metadata": {
    "id": "training"
   },
   "source": [
    "## 5. 모델 학습 및 평가"
   ]
  },
  {
   "cell_type": "code",
   "execution_count": null,
   "metadata": {
    "id": "train_evaluate"
   },
   "outputs": [],
   "source": [
    "# 데이터 로딩\n",
    "data_dir = '/content/drive/MyDrive/spam_detection_project/data'\n",
    "image_paths, texts, labels = load_data(data_dir)\n",
    "\n",
    "# 모델 초기화 및 학습\n",
    "model = MultimodalSpamDetector()\n",
    "model.train(image_paths, texts, labels)\n",
    "\n",
    "# 평가\n",
    "predictions = []\n",
    "for img_path, text in zip(image_paths[:10], texts[:10]):  # 테스트용 샘플\n",
    "    pred, prob = model.predict(img_path, text)\n",
    "    predictions.append(pred)\n",
    "\n",
    "# 성능 지표 계산\n",
    "accuracy = accuracy_score(labels[:10], predictions)\n",
    "precision, recall, f1, _ = precision_recall_fscore_support(labels[:10], predictions, average='binary')\n",
    "\n",
    "print(f'Accuracy: {accuracy:.4f}')\n",
    "print(f'Precision: {precision:.4f}')\n",
    "print(f'Recall: {recall:.4f}')\n",
    "print(f'F1-Score: {f1:.4f}')"
   ]
  },
  {
   "cell_type": "markdown",
   "metadata": {
    "id": "save_model"
   },
   "source": [
    "## 6. 모델 저장"
   ]
  },
  {
   "cell_type": "code",
   "execution_count": null,
   "metadata": {
    "id": "save"
   },
   "outputs": [],
   "source": [
    "import joblib\n",
    "\n",
    "# SVM 모델 저장\n",
    "save_path = '/content/drive/MyDrive/spam_detection_project/models/svm_model.joblib'\n",
    "joblib.dump(model.svm, save_path)"
   ]
  }
 ],
 "metadata": {
  "accelerator": "GPU",
  "colab": {
   "name": "spam_detection_prototype.ipynb",
   "provenance": []
  },
  "kernelspec": {
   "display_name": "Python 3",
   "language": "python",
   "name": "python3"
  },
  "language_info": {
   "codemirror_mode": {
    "name": "ipython",
    "version": 3
   },
   "file_extension": ".py",
   "mimetype": "text/x-python",
   "name": "python",
   "nbconvert_exporter": "python",
   "pygments_lexer": "ipython3",
   "version": "3.8.0"
  }
 },
 "nbformat": 4,
 "nbformat_minor": 4
} 