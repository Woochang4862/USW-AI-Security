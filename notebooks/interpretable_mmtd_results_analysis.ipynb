{
 "cells": [
  {
   "cell_type": "markdown",
   "metadata": {},
   "source": [
    "# 해석 가능한 MMTD 모델 실험 결과 분석\n",
    "## Interpretable Multimodal Spam Detection: Comparative Analysis\n",
    "\n",
    "본 노트북은 MMTD 아키텍처에서 MLP 분류기를 해석 가능한 분류기로 대체한 실험 결과를 종합 분석합니다.\n",
    "\n",
    "### 📊 실험 개요\n",
    "- **목표**: 고성능 유지하면서 해석가능성 확보\n",
    "- **데이터셋**: EDP (21,848 훈련, 3,121 검증, 6,243 테스트)\n",
    "- **백본**: BERT + BEiT + Transformer 융합\n",
    "- **분류기**: Logistic Regression, Decision Tree, SVM, XGBoost\n",
    "\n",
    "---"
   ]
  },
  {
   "cell_type": "code",
   "execution_count": 1,
   "metadata": {},
   "outputs": [
    {
     "name": "stdout",
     "output_type": "stream",
     "text": [
      "📚 라이브러리 로딩 완료\n"
     ]
    }
   ],
   "source": [
    "import json\n",
    "import pandas as pd\n",
    "import numpy as np\n",
    "import matplotlib.pyplot as plt\n",
    "import seaborn as sns\n",
    "from pathlib import Path\n",
    "import warnings\n",
    "warnings.filterwarnings('ignore')\n",
    "\n",
    "# 한글 폰트 설정\n",
    "plt.rcParams['font.family'] = 'AppleGothic'\n",
    "plt.rcParams['axes.unicode_minus'] = False\n",
    "plt.style.use('seaborn-v0_8')\n",
    "\n",
    "print(\"📚 라이브러리 로딩 완료\")"
   ]
  },
  {
   "cell_type": "markdown",
   "metadata": {},
   "source": [
    "## 📁 실험 결과 데이터 로딩"
   ]
  },
  {
   "cell_type": "code",
   "execution_count": 3,
   "metadata": {},
   "outputs": [
    {
     "name": "stdout",
     "output_type": "stream",
     "text": [
      "✅ Logistic Regression 결과 로딩 완료\n",
      "✅ Decision Tree 결과 로딩 완료\n",
      "✅ SVM 결과 로딩 완료\n",
      "✅ XGBoost 결과 로딩 완료\n",
      "\n",
      "📊 총 4개 실험 결과 로딩 완료\n"
     ]
    }
   ],
   "source": [
    "# 실험 결과 파일 경로\n",
    "results_files = {\n",
    "    'Logistic Regression': '../outputs/improved_revised_20250604_140330/improved_revised_results.json',\n",
    "    'Decision Tree': '../outputs/decision_tree_20250604_145245/decision_tree_results.json',\n",
    "    'SVM': '../outputs/svm_20250605_010415/svm_results.json',\n",
    "    'XGBoost': '../outputs/xgboost_20250605_031506/xgboost_results.json'\n",
    "}\n",
    "\n",
    "# 결과 데이터 로딩\n",
    "results = {}\n",
    "for name, file_path in results_files.items():\n",
    "    try:\n",
    "        with open(file_path, 'r', encoding='utf-8') as f:\n",
    "            results[name] = json.load(f)\n",
    "        print(f\"✅ {name} 결과 로딩 완료\")\n",
    "    except Exception as e:\n",
    "        print(f\"❌ {name} 로딩 실패: {e}\")\n",
    "\n",
    "print(f\"\\n📊 총 {len(results)}개 실험 결과 로딩 완료\")"
   ]
  },
  {
   "cell_type": "markdown",
   "metadata": {},
   "source": [
    "## 🎯 성능 비교 분석"
   ]
  },
  {
   "cell_type": "code",
   "execution_count": 4,
   "metadata": {},
   "outputs": [
    {
     "name": "stdout",
     "output_type": "stream",
     "text": [
      "📈 성능 요약 테이블\n"
     ]
    },
    {
     "data": {
      "text/html": [
       "<div>\n",
       "<style scoped>\n",
       "    .dataframe tbody tr th:only-of-type {\n",
       "        vertical-align: middle;\n",
       "    }\n",
       "\n",
       "    .dataframe tbody tr th {\n",
       "        vertical-align: top;\n",
       "    }\n",
       "\n",
       "    .dataframe thead th {\n",
       "        text-align: right;\n",
       "    }\n",
       "</style>\n",
       "<table border=\"1\" class=\"dataframe\">\n",
       "  <thead>\n",
       "    <tr style=\"text-align: right;\">\n",
       "      <th></th>\n",
       "      <th>Model</th>\n",
       "      <th>Accuracy</th>\n",
       "      <th>F1 Score</th>\n",
       "      <th>AUC Score</th>\n",
       "      <th>Training Time (min)</th>\n",
       "      <th>Best Val Accuracy</th>\n",
       "    </tr>\n",
       "  </thead>\n",
       "  <tbody>\n",
       "    <tr>\n",
       "      <th>0</th>\n",
       "      <td>Logistic Regression</td>\n",
       "      <td>99.4394</td>\n",
       "      <td>99.4394</td>\n",
       "      <td>99.9743</td>\n",
       "      <td>29.8312</td>\n",
       "      <td>100.0000</td>\n",
       "    </tr>\n",
       "    <tr>\n",
       "      <th>1</th>\n",
       "      <td>Decision Tree</td>\n",
       "      <td>99.9359</td>\n",
       "      <td>99.9359</td>\n",
       "      <td>99.9999</td>\n",
       "      <td>5.5655</td>\n",
       "      <td>99.9359</td>\n",
       "    </tr>\n",
       "    <tr>\n",
       "      <th>2</th>\n",
       "      <td>SVM</td>\n",
       "      <td>99.9680</td>\n",
       "      <td>99.9680</td>\n",
       "      <td>99.9821</td>\n",
       "      <td>86.7071</td>\n",
       "      <td>99.9039</td>\n",
       "    </tr>\n",
       "    <tr>\n",
       "      <th>3</th>\n",
       "      <td>XGBoost</td>\n",
       "      <td>99.9840</td>\n",
       "      <td>99.9840</td>\n",
       "      <td>100.0000</td>\n",
       "      <td>40.4900</td>\n",
       "      <td>99.9359</td>\n",
       "    </tr>\n",
       "  </tbody>\n",
       "</table>\n",
       "</div>"
      ],
      "text/plain": [
       "                 Model  Accuracy  F1 Score  AUC Score  Training Time (min)  \\\n",
       "0  Logistic Regression   99.4394   99.4394    99.9743              29.8312   \n",
       "1        Decision Tree   99.9359   99.9359    99.9999               5.5655   \n",
       "2                  SVM   99.9680   99.9680    99.9821              86.7071   \n",
       "3              XGBoost   99.9840   99.9840   100.0000              40.4900   \n",
       "\n",
       "   Best Val Accuracy  \n",
       "0           100.0000  \n",
       "1            99.9359  \n",
       "2            99.9039  \n",
       "3            99.9359  "
      ]
     },
     "metadata": {},
     "output_type": "display_data"
    }
   ],
   "source": [
    "# 성능 메트릭 추출\n",
    "performance_data = []\n",
    "\n",
    "for name, result in results.items():\n",
    "    test_results = result['test_results']\n",
    "    training_results = result['training_results']\n",
    "    \n",
    "    performance_data.append({\n",
    "        'Model': name,\n",
    "        'Accuracy': test_results['accuracy'] * 100,\n",
    "        'F1 Score': test_results['f1_score'] * 100,\n",
    "        'AUC Score': test_results['auc_score'] * 100,\n",
    "        'Training Time (min)': training_results['total_training_time'] / 60,\n",
    "        'Best Val Accuracy': training_results['best_val_accuracy'] * 100\n",
    "    })\n",
    "\n",
    "performance_df = pd.DataFrame(performance_data)\n",
    "print(\"📈 성능 요약 테이블\")\n",
    "display(performance_df.round(4))"
   ]
  },
  {
   "cell_type": "code",
   "execution_count": 5,
   "metadata": {},
   "outputs": [
    {
     "data": {
      "image/png": "[encoded data removed]",
      "text/plain": [
       "<Figure size 1500x1200 with 4 Axes>"
      ]
     },
     "metadata": {},
     "output_type": "display_data"
    }
   ],
   "source": [
    "# 성능 시각화\n",
    "fig, axes = plt.subplots(2, 2, figsize=(15, 12))\n",
    "fig.suptitle('해석 가능한 MMTD 모델 성능 비교', fontsize=16, y=0.98)\n",
    "\n",
    "# 1. 정확도 비교\n",
    "axes[0, 0].bar(performance_df['Model'], performance_df['Accuracy'], \n",
    "               color=['#FF6B6B', '#4ECDC4', '#45B7D1', '#96CEB4'])\n",
    "axes[0, 0].set_title('Test Accuracy (%)')\n",
    "axes[0, 0].set_ylim(99.0, 100.0)\n",
    "axes[0, 0].tick_params(axis='x', rotation=45)\n",
    "for i, v in enumerate(performance_df['Accuracy']):\n",
    "    axes[0, 0].text(i, v + 0.01, f'{v:.2f}%', ha='center', va='bottom')\n",
    "\n",
    "# 2. F1 Score 비교\n",
    "axes[0, 1].bar(performance_df['Model'], performance_df['F1 Score'], \n",
    "               color=['#FF6B6B', '#4ECDC4', '#45B7D1', '#96CEB4'])\n",
    "axes[0, 1].set_title('F1 Score (%)')\n",
    "axes[0, 1].set_ylim(99.0, 100.0)\n",
    "axes[0, 1].tick_params(axis='x', rotation=45)\n",
    "for i, v in enumerate(performance_df['F1 Score']):\n",
    "    axes[0, 1].text(i, v + 0.01, f'{v:.2f}%', ha='center', va='bottom')\n",
    "\n",
    "# 3. AUC Score 비교\n",
    "axes[1, 0].bar(performance_df['Model'], performance_df['AUC Score'], \n",
    "               color=['#FF6B6B', '#4ECDC4', '#45B7D1', '#96CEB4'])\n",
    "axes[1, 0].set_title('AUC Score (%)')\n",
    "axes[1, 0].set_ylim(99.0, 100.1)\n",
    "axes[1, 0].tick_params(axis='x', rotation=45)\n",
    "for i, v in enumerate(performance_df['AUC Score']):\n",
    "    axes[1, 0].text(i, v + 0.01, f'{v:.2f}%', ha='center', va='bottom')\n",
    "\n",
    "# 4. 훈련 시간 비교\n",
    "axes[1, 1].bar(performance_df['Model'], performance_df['Training Time (min)'], \n",
    "               color=['#FF6B6B', '#4ECDC4', '#45B7D1', '#96CEB4'])\n",
    "axes[1, 1].set_title('Training Time (minutes)')\n",
    "axes[1, 1].tick_params(axis='x', rotation=45)\n",
    "for i, v in enumerate(performance_df['Training Time (min)']):\n",
    "    axes[1, 1].text(i, v + max(performance_df['Training Time (min)']) * 0.02, \n",
    "                     f'{v:.1f}', ha='center', va='bottom')\n",
    "\n",
    "plt.tight_layout()\n",
    "plt.show()"
   ]
  },
  {
   "cell_type": "markdown",
   "metadata": {},
   "source": [
    "## 🔍 혼동 행렬 분석"
   ]
  },
  {
   "cell_type": "code",
   "execution_count": null,
   "metadata": {},
   "outputs": [],
   "source": [
    "# 혼동 행렬 시각화\n",
    "fig, axes = plt.subplots(2, 2, figsize=(15, 12))\n",
    "fig.suptitle('Confusion Matrix Comparison', fontsize=16, y=0.98)\n",
    "\n",
    "models = list(results.keys())\n",
    "colors = ['Reds', 'Blues', 'Greens', 'Purples']\n",
    "\n",
    "for idx, (model, color) in enumerate(zip(models, colors)):\n",
    "    row, col = idx // 2, idx % 2\n",
    "    \n",
    "    confusion_matrix = np.array(results[model]['test_results']['confusion_matrix'])\n",
    "    accuracy = results[model]['test_results']['accuracy']\n",
    "    \n",
    "    sns.heatmap(confusion_matrix, annot=True, fmt='d', cmap=color, \n",
    "                ax=axes[row, col], cbar=True)\n",
    "    axes[row, col].set_title(f'{model}\\nAccuracy: {accuracy*100:.2f}%')\n",
    "    axes[row, col].set_xlabel('Predicted')\n",
    "    axes[row, col].set_ylabel('Actual')\n",
    "    axes[row, col].set_xticklabels(['Ham', 'Spam'])\n",
    "    axes[row, col].set_yticklabels(['Ham', 'Spam'])\n",
    "\n",
    "plt.tight_layout()\n",
    "plt.show()"
   ]
  },
  {
   "cell_type": "markdown",
   "metadata": {},
   "source": [
    "## ⚡ 성능 vs 효율성 분석"
   ]
  },
  {
   "cell_type": "code",
   "execution_count": null,
   "metadata": {},
   "outputs": [],
   "source": [
    "# 성능 대비 효율성 분석\n",
    "plt.figure(figsize=(12, 8))\n",
    "\n",
    "# 버블 차트: 정확도 vs 훈련시간, 버블 크기는 F1 Score\n",
    "x = performance_df['Training Time (min)']\n",
    "y = performance_df['Accuracy']\n",
    "sizes = (performance_df['F1 Score'] - 99) * 1000  # 크기 조정\n",
    "colors = ['#FF6B6B', '#4ECDC4', '#45B7D1', '#96CEB4']\n",
    "\n",
    "scatter = plt.scatter(x, y, s=sizes, c=colors, alpha=0.7, edgecolors='black', linewidth=2)\n",
    "\n",
    "# 레이블 추가\n",
    "for i, model in enumerate(performance_df['Model']):\n",
    "    plt.annotate(model, (x.iloc[i], y.iloc[i]), \n",
    "                xytext=(10, 10), textcoords='offset points',\n",
    "                fontsize=12, fontweight='bold')\n",
    "\n",
    "plt.xlabel('Training Time (minutes)', fontsize=14)\n",
    "plt.ylabel('Test Accuracy (%)', fontsize=14)\n",
    "plt.title('Performance vs Efficiency Analysis\\n(Bubble size = F1 Score)', fontsize=16)\n",
    "plt.grid(True, alpha=0.3)\n",
    "\n",
    "# 이상적인 영역 표시 (높은 정확도, 낮은 훈련 시간)\n",
    "plt.axhline(y=99.5, color='red', linestyle='--', alpha=0.5, label='High Performance (>99.5%)')\n",
    "plt.axvline(x=30, color='green', linestyle='--', alpha=0.5, label='Fast Training (<30 min)')\n",
    "\n",
    "plt.legend(loc='lower right')\n",
    "plt.tight_layout()\n",
    "plt.show()"
   ]
  },
  {
   "cell_type": "markdown",
   "metadata": {},
   "source": [
    "## 🧠 해석가능성 분석"
   ]
  },
  {
   "cell_type": "code",
   "execution_count": null,
   "metadata": {},
   "outputs": [],
   "source": [
    "# 해석가능성 특성 비교\n",
    "interpretability_features = {\n",
    "    'Logistic Regression': {\n",
    "        'Type': 'Linear Model',\n",
    "        'Key Features': 'Feature weights, L1/L2 regularization',\n",
    "        'Advantages': 'Simple coefficients, statistical significance',\n",
    "        'Sparsity': results['Logistic Regression']['interpretability_analysis']['sparsity'],\n",
    "        'Max Importance': results['Logistic Regression']['interpretability_analysis']['max_importance']\n",
    "    },\n",
    "    'Decision Tree': {\n",
    "        'Type': 'Rule-based',\n",
    "        'Key Features': 'Decision rules, feature splits',\n",
    "        'Advantages': 'Human-readable rules, no preprocessing needed',\n",
    "        'Rules Count': len(results['Decision Tree']['interpretability_analysis']['tree_rules']),\n",
    "        'Max Importance': results['Decision Tree']['interpretability_analysis']['importance_stats']['max_importance']\n",
    "    },\n",
    "    'SVM': {\n",
    "        'Type': 'Margin-based',\n",
    "        'Key Features': 'Support vectors, decision boundary',\n",
    "        'Advantages': 'Margin analysis, robust to outliers',\n",
    "        'Support Vectors': results['SVM']['interpretability_analysis']['support_vectors']['num_support_vectors'],\n",
    "        'SV Ratio': results['SVM']['interpretability_analysis']['margin_analysis']['support_vector_ratio']\n",
    "    },\n",
    "    'XGBoost': {\n",
    "        'Type': 'Tree Ensemble',\n",
    "        'Key Features': 'Multiple importance types, SHAP values',\n",
    "        'Advantages': 'Feature importance, tree visualization',\n",
    "        'Trees Count': results['XGBoost']['interpretability_analysis']['tree_info']['n_estimators'],\n",
    "        'Max Gain Importance': results['XGBoost']['interpretability_analysis']['feature_importances']['gain']['max_importance']\n",
    "    }\n",
    "}\n",
    "\n",
    "print(\"🔍 해석가능성 특성 비교\")\n",
    "for model, features in interpretability_features.items():\n",
    "    print(f\"\\n{'='*50}\")\n",
    "    print(f\"🧠 {model}\")\n",
    "    print(f\"   Type: {features['Type']}\")\n",
    "    print(f\"   Key Features: {features['Key Features']}\")\n",
    "    print(f\"   Advantages: {features['Advantages']}\")"
   ]
  },
  {
   "cell_type": "markdown",
   "metadata": {},
   "source": [
    "## 📊 특성 중요도 분석"
   ]
  },
  {
   "cell_type": "code",
   "execution_count": null,
   "metadata": {},
   "outputs": [],
   "source": [
    "# XGBoost 다중 특성 중요도 비교\n",
    "if 'XGBoost' in results:\n",
    "    xgb_importance = results['XGBoost']['interpretability_analysis']['feature_importances']\n",
    "    \n",
    "    # Top 10 특성들의 중요도 비교\n",
    "    importance_types = ['gain', 'weight', 'cover']\n",
    "    \n",
    "    fig, axes = plt.subplots(1, 3, figsize=(18, 6))\n",
    "    fig.suptitle('XGBoost Feature Importance by Type (Top 10)', fontsize=16)\n",
    "    \n",
    "    for idx, imp_type in enumerate(importance_types):\n",
    "        if imp_type in xgb_importance:\n",
    "            features = xgb_importance[imp_type]['top_10_features']\n",
    "            values = xgb_importance[imp_type]['top_10_values']\n",
    "            \n",
    "            axes[idx].barh(range(len(features)), values, color=f'C{idx}')\n",
    "            axes[idx].set_yticks(range(len(features)))\n",
    "            axes[idx].set_yticklabels([f'Feature {f}' for f in features])\n",
    "            axes[idx].set_title(f'{imp_type.title()} Importance')\n",
    "            axes[idx].set_xlabel('Importance Value')\n",
    "    \n",
    "    plt.tight_layout()\n",
    "    plt.show()"
   ]
  },
  {
   "cell_type": "markdown",
   "metadata": {},
   "source": [
    "## 🏆 모델 순위 및 추천"
   ]
  },
  {
   "cell_type": "code",
   "execution_count": null,
   "metadata": {},
   "outputs": [],
   "source": [
    "# 종합 평가 점수 계산\n",
    "def calculate_overall_score(model_data):\n",
    "    # 정규화된 점수 (0-1)\n",
    "    accuracy_score = model_data['Accuracy'] / 100\n",
    "    f1_score = model_data['F1 Score'] / 100\n",
    "    auc_score = model_data['AUC Score'] / 100\n",
    "    \n",
    "    # 훈련 시간은 역수로 (빠를수록 좋음)\n",
    "    max_time = performance_df['Training Time (min)'].max()\n",
    "    efficiency_score = 1 - (model_data['Training Time (min)'] / max_time)\n",
    "    \n",
    "    # 가중 평균 (성능 70%, 효율성 30%)\n",
    "    overall_score = (accuracy_score * 0.25 + f1_score * 0.25 + \n",
    "                    auc_score * 0.20 + efficiency_score * 0.30)\n",
    "    \n",
    "    return overall_score\n",
    "\n",
    "# 종합 점수 계산\n",
    "performance_df['Overall Score'] = performance_df.apply(calculate_overall_score, axis=1)\n",
    "performance_df_sorted = performance_df.sort_values('Overall Score', ascending=False)\n",
    "\n",
    "print(\"🏆 모델 종합 순위\")\n",
    "print(\"(성능 70% + 효율성 30% 가중 평균)\")\n",
    "print(\"=\"*60)\n",
    "\n",
    "for idx, row in performance_df_sorted.iterrows():\n",
    "    rank = performance_df_sorted.index.get_loc(idx) + 1\n",
    "    print(f\"{rank}. {row['Model']}\")\n",
    "    print(f\"   종합점수: {row['Overall Score']:.4f}\")\n",
    "    print(f\"   정확도: {row['Accuracy']:.2f}%, 훈련시간: {row['Training Time (min)']:.1f}분\")\n",
    "    print()"
   ]
  },
  {
   "cell_type": "code",
   "execution_count": null,
   "metadata": {},
   "outputs": [],
   "source": [
    "# 레이더 차트로 모델 비교\n",
    "from math import pi\n",
    "\n",
    "# 정규화된 메트릭 준비\n",
    "metrics = ['Accuracy', 'F1 Score', 'AUC Score', 'Efficiency']\n",
    "angles = [n / float(len(metrics)) * 2 * pi for n in range(len(metrics))]\n",
    "angles += angles[:1]  # 원형으로 닫기\n",
    "\n",
    "fig, ax = plt.subplots(figsize=(10, 10), subplot_kw=dict(projection='polar'))\n",
    "\n",
    "colors = ['#FF6B6B', '#4ECDC4', '#45B7D1', '#96CEB4']\n",
    "models = performance_df['Model'].tolist()\n",
    "\n",
    "for idx, model in enumerate(models):\n",
    "    values = [\n",
    "        performance_df.loc[performance_df['Model'] == model, 'Accuracy'].iloc[0] / 100,\n",
    "        performance_df.loc[performance_df['Model'] == model, 'F1 Score'].iloc[0] / 100,\n",
    "        performance_df.loc[performance_df['Model'] == model, 'AUC Score'].iloc[0] / 100,\n",
    "        1 - (performance_df.loc[performance_df['Model'] == model, 'Training Time (min)'].iloc[0] / \n",
    "             performance_df['Training Time (min)'].max())\n",
    "    ]\n",
    "    values += values[:1]  # 원형으로 닫기\n",
    "    \n",
    "    ax.plot(angles, values, 'o-', linewidth=2, label=model, color=colors[idx])\n",
    "    ax.fill(angles, values, alpha=0.25, color=colors[idx])\n",
    "\n",
    "ax.set_xticks(angles[:-1])\n",
    "ax.set_xticklabels(metrics)\n",
    "ax.set_ylim(0, 1)\n",
    "ax.set_title('Model Comparison Radar Chart', y=1.08, fontsize=16)\n",
    "ax.legend(loc='upper right', bbox_to_anchor=(1.2, 1.0))\n",
    "ax.grid(True)\n",
    "\n",
    "plt.tight_layout()\n",
    "plt.show()"
   ]
  },
  {
   "cell_type": "markdown",
   "metadata": {},
   "source": [
    "## 💡 주요 발견사항 및 결론"
   ]
  },
  {
   "cell_type": "code",
   "execution_count": null,
   "metadata": {},
   "outputs": [],
   "source": [
    "# 주요 통계 요약\n",
    "print(\"📈 주요 발견사항\")\n",
    "print(\"=\"*60)\n",
    "\n",
    "# 최고 성능 모델\n",
    "best_accuracy = performance_df.loc[performance_df['Accuracy'].idxmax()]\n",
    "best_efficiency = performance_df.loc[performance_df['Training Time (min)'].idxmin()]\n",
    "best_overall = performance_df_sorted.iloc[0]\n",
    "\n",
    "print(f\"🏆 최고 정확도: {best_accuracy['Model']} ({best_accuracy['Accuracy']:.2f}%)\")\n",
    "print(f\"⚡ 최고 효율성: {best_efficiency['Model']} ({best_efficiency['Training Time (min)']:.1f}분)\")\n",
    "print(f\"🎯 종합 1위: {best_overall['Model']} (점수: {best_overall['Overall Score']:.4f})\")\n",
    "\n",
    "print(\"\\n🔍 해석가능성 특징:\")\n",
    "print(f\"• Decision Tree: {len(results['Decision Tree']['interpretability_analysis']['tree_rules'])}개 규칙\")\n",
    "print(f\"• SVM: {results['SVM']['interpretability_analysis']['support_vectors']['num_support_vectors']}개 Support Vector\")\n",
    "print(f\"• XGBoost: {results['XGBoost']['interpretability_analysis']['tree_info']['n_estimators']}개 트리\")\n",
    "print(f\"• Logistic Regression: {results['Logistic Regression']['interpretability_analysis']['sparsity']:.1%} sparsity\")\n",
    "\n",
    "print(\"\\n📊 성능 범위:\")\n",
    "print(f\"• 정확도: {performance_df['Accuracy'].min():.2f}% - {performance_df['Accuracy'].max():.2f}%\")\n",
    "print(f\"• 훈련시간: {performance_df['Training Time (min)'].min():.1f}분 - {performance_df['Training Time (min)'].max():.1f}분\")\n",
    "print(f\"• AUC: {performance_df['AUC Score'].min():.2f}% - {performance_df['AUC Score'].max():.2f}%\")"
   ]
  },
  {
   "cell_type": "markdown",
   "metadata": {},
   "source": [
    "## 📋 최종 권장사항\n",
    "\n",
    "### 🎯 **용도별 모델 추천**\n",
    "\n",
    "#### 1. **프로덕션 환경** 🚀\n",
    "- **추천**: XGBoost 또는 SVM\n",
    "- **이유**: 최고 성능 (99.97-99.98% 정확도)\n",
    "- **트레이드오프**: 상대적으로 긴 훈련 시간\n",
    "\n",
    "#### 2. **빠른 프로토타이핑** ⚡\n",
    "- **추천**: Decision Tree\n",
    "- **이유**: 가장 빠른 훈련 (5.6분), 우수한 성능 (99.94%)\n",
    "- **장점**: 인간이 읽을 수 있는 규칙\n",
    "\n",
    "#### 3. **해석가능성 중심** 🔍\n",
    "- **추천**: Logistic Regression 또는 Decision Tree\n",
    "- **이유**: 단순하고 직관적인 해석\n",
    "- **특징**: 통계적 유의성 또는 명확한 규칙\n",
    "\n",
    "#### 4. **균형잡힌 선택** ⚖️\n",
    "- **추천**: Decision Tree\n",
    "- **이유**: 성능, 효율성, 해석가능성의 최적 균형\n",
    "\n",
    "### 📈 **연구 기여도**\n",
    "- ✅ **목표 달성**: 모든 모델이 97% 이상 정확도 달성\n",
    "- ✅ **해석가능성**: 각 모델별 고유한 해석 방법 제공\n",
    "- ✅ **실용성**: 다양한 요구사항에 맞는 선택지 제공\n",
    "\n",
    "---\n",
    "*본 분석은 MMTD 아키텍처에서 해석가능한 분류기의 효과적 적용 가능성을 입증했습니다.*"
   ]
  }
 ],
 "metadata": {
  "kernelspec": {
   "display_name": "Python 3",
   "language": "python",
   "name": "python3"
  },
  "language_info": {
   "codemirror_mode": {
    "name": "ipython",
    "version": 3
   },
   "file_extension": ".py",
   "mimetype": "text/x-python",
   "name": "python",
   "nbconvert_exporter": "python",
   "pygments_lexer": "ipython3",
   "version": "3.13.3"
  }
 },
 "nbformat": 4,
 "nbformat_minor": 4
}
